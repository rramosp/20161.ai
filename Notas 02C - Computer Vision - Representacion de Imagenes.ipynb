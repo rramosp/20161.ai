{
 "cells": [
  {
   "cell_type": "code",
   "execution_count": 1,
   "metadata": {
    "collapsed": true
   },
   "outputs": [],
   "source": [
    "import numpy as np\n",
    "import matplotlib.pyplot as plt\n",
    "%matplotlib inline"
   ]
  },
  {
   "cell_type": "markdown",
   "metadata": {},
   "source": [
    "## Representación de Imágenes"
   ]
  },
  {
   "cell_type": "code",
   "execution_count": 4,
   "metadata": {
    "collapsed": false
   },
   "outputs": [
    {
     "name": "stdout",
     "output_type": "stream",
     "text": [
      "dimension de las imagenes y las clases (1500, 784) (1500,)\n"
     ]
    }
   ],
   "source": [
    "mnist = np.loadtxt(\"data/mnist1.5k.csv\", delimiter=\",\")\n",
    "d=mnist[:,1:785]\n",
    "c=mnist[:,0]\n",
    "print \"dimension de las imagenes y las clases\", d.shape, c.shape"
   ]
  },
  {
   "cell_type": "markdown",
   "metadata": {},
   "source": [
    "Representamos una imagen por el histograma de grises. Es decir, por un vector de 255 valores conteniendo cuantos píxeles contiene la imagen de cada intensidad."
   ]
  },
  {
   "cell_type": "code",
   "execution_count": 5,
   "metadata": {
    "collapsed": false
   },
   "outputs": [
    {
     "name": "stdout",
     "output_type": "stream",
     "text": [
      "[590   0   0   0   0   1   0   1   1   0   0   0   0   2   0   0   0   0\n",
      "   0   1   0   0   2   0   0   0   1   0   0   0   0   0   1   1   1   0\n",
      "   2   0   1   0   0   0   1   0   1   0   0   2   0   0   0   0   1   0\n",
      "   0   0   1   0   0   0   0   2   0   0   0   0   0   1   1   0   0   0\n",
      "   1   0   0   0   0   1   0   0   0   0   0   1   0   0   1   3   2   0\n",
      "   1   0   1   0   0   0   0   0   0   1   0   0   0   0   0   2   0   0\n",
      "   0   0   0   0   0   0   2   0   1   0   0   0   0   0   0   0   0   0\n",
      "   0   0   1   0   0   2   0   1   1   0   0   2   1   0   0   1   0   0\n",
      "   0   0   0   0   1   0   0   0   1   0   0   1   1   3   1   0   1   1\n",
      "   0   0   1   1   0   0   0   1   1   1   0   0   1   0   1   0   0   0\n",
      "   0   1   0   0   2   0   1   1   0   0   1   0   2   0   0   0   0   0\n",
      "   0   0   0   0   0   2   0   0   0   1   2   0   1   0   0   0   0   0\n",
      "   0   0   0   0   0   0   0   1   0   0   1   0   2   1   0   0   1   0\n",
      "   0   1   3   0   1   1   1   1   1   0   4   3   1   1   1   1   1   0\n",
      "   2  69  14]\n",
      "[   0.    0.    0.    0.    0.    0.    0.    0.    0.    0.    0.    0.\n",
      "    0.    0.    0.    0.    0.    0.    0.    0.    0.    0.    0.    0.\n",
      "    0.    0.    0.    0.    0.    0.    0.    0.    0.    0.    0.    0.\n",
      "    0.    0.    0.    0.    0.    0.    0.    0.    0.    0.    0.    0.\n",
      "    0.    0.    0.    0.    0.    0.    0.    0.    0.    0.    0.    0.\n",
      "    0.    0.    0.    0.    0.    0.    0.    0.    0.    0.    0.    0.\n",
      "    0.    0.    0.    0.    0.    0.    0.    0.    0.    0.    0.    0.\n",
      "    0.    0.    0.    0.    0.    0.    0.    0.    0.    0.    0.    0.\n",
      "    0.    0.    0.    0.    0.    0.    0.    0.    0.    0.    0.    0.\n",
      "    0.    0.    0.    0.    0.    0.    0.    0.    0.    0.    0.    0.\n",
      "    0.    0.    0.    0.    0.    0.    0.    0.    0.    0.    0.    0.\n",
      "    0.    0.    0.    0.    0.    0.    0.    0.    0.    0.    0.    0.\n",
      "    0.    0.    0.    0.    0.    0.    0.    0.   90.  128.  157.  158.\n",
      "  133.    5.    0.    0.    0.    0.    0.    0.    0.    0.    0.    0.\n",
      "    0.    0.    0.    0.    0.    0.    0.    0.   13.  137.  161.  236.\n",
      "  249.  253.  253.  254.  253.   38.    0.    0.    0.    0.    0.    0.\n",
      "    0.    0.    0.    0.    0.    0.    0.    0.    0.    0.    0.    0.\n",
      "  131.  253.  253.  253.  253.  253.  253.  254.  253.  152.    0.    0.\n",
      "    0.    0.    0.    0.    0.    0.    0.    0.    0.    0.    0.    0.\n",
      "    0.    0.    0.   32.  229.  253.  253.  253.  235.  176.   92.  254.\n",
      "  253.  244.   22.    0.    0.    0.    0.    0.    0.    0.    0.    0.\n",
      "    0.    0.    0.    0.    0.    0.    0.  134.  253.  253.  253.  228.\n",
      "   47.    0.    0.  254.  253.  253.   99.    0.    0.    0.    0.    0.\n",
      "    0.    0.    0.    0.    0.    0.    0.    0.    0.    0.    0.   52.\n",
      "  157.  226.  184.   47.    0.    0.    0.  254.  253.  253.  114.    0.\n",
      "    0.    0.    0.    0.    0.    0.    0.    0.    0.    0.    0.    0.\n",
      "    0.    0.    0.    0.    0.    0.    0.    0.    0.    0.   67.  254.\n",
      "  253.  253.   77.    0.    0.    0.    0.    0.    0.    0.    0.    0.\n",
      "    0.    0.    0.    0.    0.    0.    0.    0.    0.    0.    0.    0.\n",
      "    0.    0.  148.  254.  253.  210.    8.    0.    0.    0.    0.    0.\n",
      "    0.    0.    0.    0.    0.    0.    0.    0.    0.    0.    0.    0.\n",
      "    0.    0.    0.    0.    0.    0.   88.  254.  253.  253.   26.    0.\n",
      "    0.    0.    0.    0.    0.    0.    0.    0.    0.    0.    0.    0.\n",
      "    0.    0.    0.    0.    0.    0.    0.    0.    0.    0.  116.  255.\n",
      "  254.  192.    0.    0.    0.    0.    0.    0.    0.    0.    0.    0.\n",
      "    0.    0.    0.    0.    0.    0.    0.   87.  157.  203.  245.  245.\n",
      "  208.  160.  250.  254.  253.  137.    0.    0.    0.    0.  156.  239.\n",
      "   22.    0.    0.    0.    0.    0.    0.    0.    0.   68.  203.  252.\n",
      "  253.  253.  253.  253.  253.  253.  253.  254.  253.  155.    0.    0.\n",
      "    0.    0.  192.  253.  181.    0.    0.    0.    0.    0.    0.    0.\n",
      "    0.  245.  253.  253.  253.  207.  170.  242.  253.  253.  253.  254.\n",
      "  253.  131.    0.    0.    0.   42.  247.  253.  174.    0.    0.    0.\n",
      "    0.    0.    0.    0.    0.  208.  253.  253.  186.   19.   87.  228.\n",
      "  253.  253.  238.  254.  253.  244.   83.    0.    7.  138.  253.  253.\n",
      "  165.    0.    0.    0.    0.    0.    0.    0.    0.  114.  252.  253.\n",
      "  253.  223.  253.  253.  253.  236.   86.  169.  253.  253.  244.  164.\n",
      "  171.  253.  253.  248.   56.    0.    0.    0.    0.    0.    0.    0.\n",
      "    0.    0.  105.  190.  241.  253.  253.  232.  184.   33.    0.   44.\n",
      "  240.  253.  253.  253.  253.  253.  236.  105.    0.    0.    0.    0.\n",
      "    0.    0.    0.    0.    0.    0.    0.    0.   34.   61.   61.   13.\n",
      "    0.    0.    0.    0.   87.  246.  253.  253.  244.  187.   36.    0.\n",
      "    0.    0.    0.    0.    0.    0.    0.    0.    0.    0.    0.    0.\n",
      "    0.    0.    0.    0.    0.    0.    0.    0.    0.   72.   88.  141.\n",
      "   36.    0.    0.    0.    0.    0.    0.    0.    0.    0.    0.    0.\n",
      "    0.    0.    0.    0.    0.    0.    0.    0.    0.    0.    0.    0.\n",
      "    0.    0.    0.    0.    0.    0.    0.    0.    0.    0.    0.    0.\n",
      "    0.    0.    0.    0.    0.    0.    0.    0.    0.    0.    0.    0.\n",
      "    0.    0.    0.    0.    0.    0.    0.    0.    0.    0.    0.    0.\n",
      "    0.    0.    0.    0.    0.    0.    0.    0.    0.    0.    0.    0.\n",
      "    0.    0.    0.    0.    0.    0.    0.    0.    0.    0.    0.    0.\n",
      "    0.    0.    0.    0.    0.    0.    0.    0.    0.    0.    0.    0.\n",
      "    0.    0.    0.    0.    0.    0.    0.    0.    0.    0.    0.    0.\n",
      "    0.    0.    0.    0.    0.    0.    0.    0.    0.    0.    0.    0.\n",
      "    0.    0.    0.    0.    0.    0.    0.    0.    0.    0.    0.    0.\n",
      "    0.    0.    0.    0.    0.    0.    0.    0.    0.    0.    0.    0.\n",
      "    0.    0.    0.    0.]\n"
     ]
    },
    {
     "data": {
      "image/png": "[encoded data removed]",
      "text/plain": [
       "<matplotlib.figure.Figure at 0x103c4e690>"
      ]
     },
     "metadata": {},
     "output_type": "display_data"
    },
    {
     "data": {
      "image/png": "[encoded data removed]",
      "text/plain": [
       "<matplotlib.figure.Figure at 0x10b8a2ed0>"
      ]
     },
     "metadata": {},
     "output_type": "display_data"
    }
   ],
   "source": [
    "random_idx = np.random.randint(d.shape[0])\n",
    "print np.histogram(d[random_idx], bins=255)[0]\n",
    "print d[random_idx]\n",
    "plt.imshow(d[random_idx].reshape(28,28),interpolation=\"nearest\", cmap = plt.cm.Greys_r)\n",
    "plt.figure()\n",
    "plt.hist(d[random_idx], bins=255);"
   ]
  },
  {
   "cell_type": "markdown",
   "metadata": {},
   "source": [
    "Convertimos cada imagen a un histograma de grises"
   ]
  },
  {
   "cell_type": "code",
   "execution_count": 5,
   "metadata": {
    "collapsed": false
   },
   "outputs": [
    {
     "name": "stdout",
     "output_type": "stream",
     "text": [
      "(1500, 255)\n"
     ]
    }
   ],
   "source": [
    "d_hist = np.zeros((d.shape[0], 255))\n",
    "for i in range(d.shape[0]):\n",
    "    d_hist[i] = np.histogram(d[i], bins=255)[0]\n",
    "print d_hist.shape"
   ]
  },
  {
   "cell_type": "markdown",
   "metadata": {},
   "source": [
    "Hacemos una descomposición en cien valores singulares. Se calcula cuales son las 100 métricas de cada imagen que son estadísticamente más significativas."
   ]
  },
  {
   "cell_type": "code",
   "execution_count": 6,
   "metadata": {
    "collapsed": false
   },
   "outputs": [
    {
     "name": "stdout",
     "output_type": "stream",
     "text": [
      "(1500, 100)\n"
     ]
    }
   ],
   "source": [
    "import scipy.linalg as la\n",
    "\n",
    "(U,s,V)=la.svd(d)\n",
    "d_svd = U[:,0:100]\n",
    "print d_svd.shape"
   ]
  },
  {
   "cell_type": "markdown",
   "metadata": {},
   "source": [
    "Clasificamos con los pixeles originales"
   ]
  },
  {
   "cell_type": "code",
   "execution_count": 7,
   "metadata": {
    "collapsed": false
   },
   "outputs": [
    {
     "name": "stdout",
     "output_type": "stream",
     "text": [
      "acierto en train 0.628333333333\n",
      "acierto en test  0.563333333333\n"
     ]
    }
   ],
   "source": [
    "from sklearn.naive_bayes import GaussianNB\n",
    "from sklearn import cross_validation\n",
    "\n",
    "test_size = 0.2\n",
    "\n",
    "d_train, d_test, c_train, c_test = cross_validation.train_test_split(d, \n",
    "                                                                     c, \n",
    "                                                                     test_size=test_size, \n",
    "                                                                     random_state=np.random.randint(1,100))\n",
    "g = GaussianNB()\n",
    "g.fit(d_train, c_train)\n",
    "print \"acierto en train\", g.score(d_train, c_train)\n",
    "print \"acierto en test \", g.score(d_test, c_test)"
   ]
  },
  {
   "cell_type": "markdown",
   "metadata": {},
   "source": [
    "Clasificamos con el histograma. Funciona mucho peor, parece que perdemos demasiada información al representar las imágenes de esta manera."
   ]
  },
  {
   "cell_type": "code",
   "execution_count": 8,
   "metadata": {
    "collapsed": false
   },
   "outputs": [
    {
     "name": "stdout",
     "output_type": "stream",
     "text": [
      "acierto en train 0.54\n",
      "acierto en test  0.186666666667\n"
     ]
    }
   ],
   "source": [
    "d_train, d_test, c_train, c_test = cross_validation.train_test_split(d_hist, \n",
    "                                                                     c, \n",
    "                                                                     test_size=test_size, \n",
    "                                                                     random_state=np.random.randint(1,100))\n",
    "g = GaussianNB()\n",
    "g.fit(d_train, c_train)\n",
    "print \"acierto en train\", g.score(d_train, c_train)\n",
    "print \"acierto en test \", g.score(d_test, c_test)"
   ]
  },
  {
   "cell_type": "markdown",
   "metadata": {},
   "source": [
    "Clasificamos con la descomposición en valores singulares. Funciona mucho mejor, esta representación parece que preserva y resalta información importante de las imágenes. "
   ]
  },
  {
   "cell_type": "code",
   "execution_count": 9,
   "metadata": {
    "collapsed": false
   },
   "outputs": [
    {
     "name": "stdout",
     "output_type": "stream",
     "text": [
      "acierto en train 0.9\n",
      "acierto en test  0.83\n"
     ]
    }
   ],
   "source": [
    "test_size = 0.2\n",
    "\n",
    "d_train, d_test, c_train, c_test = cross_validation.train_test_split(d_svd, \n",
    "                                                                     c, \n",
    "                                                                     test_size=test_size, \n",
    "                                                                     random_state=np.random.randint(1,100))\n",
    "g = GaussianNB()\n",
    "g.fit(d_train, c_train)\n",
    "print \"acierto en train\", g.score(d_train, c_train)\n",
    "print \"acierto en test \", g.score(d_test, c_test)"
   ]
  },
  {
   "cell_type": "code",
   "execution_count": null,
   "metadata": {
    "collapsed": true
   },
   "outputs": [],
   "source": [
    "t"
   ]
  }
 ],
 "metadata": {
  "kernelspec": {
   "display_name": "Python 2",
   "language": "python",
   "name": "python2"
  },
  "language_info": {
   "codemirror_mode": {
    "name": "ipython",
    "version": 2
   },
   "file_extension": ".py",
   "mimetype": "text/x-python",
   "name": "python",
   "nbconvert_exporter": "python",
   "pygments_lexer": "ipython2",
   "version": "2.7.10"
  }
 },
 "nbformat": 4,
 "nbformat_minor": 0
}
