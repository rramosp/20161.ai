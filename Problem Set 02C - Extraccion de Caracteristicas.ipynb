{
 "cells": [
  {
   "cell_type": "markdown",
   "metadata": {},
   "source": [
    "## Problem Set 02C Extracción de Características\n",
    "\n",
    "## EJECUTA ESTA CELDA PARA AUTENTICARTE CON TU CUENTA DE GMAIL"
   ]
  },
  {
   "cell_type": "code",
   "execution_count": null,
   "metadata": {
    "collapsed": false
   },
   "outputs": [],
   "source": [
    "from mooclib import *\n",
    "import inspect, urllib\n",
    "html, auth_code, userinfo = google_authenticate(PORT_NUMBER=8080)\n",
    "html"
   ]
  },
  {
   "cell_type": "markdown",
   "metadata": {},
   "source": [
    "## Ejercicio 1 \n",
    "\n",
    "Completa la función `get_PCA` para que dada una matriz $A \\in \\mathbb{R}^{m\\times n}$ y un número de componentes $K_{PCA}$ realice la transformación PCA de las filas de la matriz al número de componentes especificado. El resultado debe de ser una tupla $(A_{PCA}, P)$ donde $A_{PCA} \\in \\mathbb{R}^{m \\times K_{PCA}}$ es la transformación PCA de $A$ y $P$ es el objeto `sklearn` PCA usado para la transformación.\n",
    "\n",
    "Revisa la [especificación de PCA](http://scikit-learn.org/stable/modules/generated/sklearn.decomposition.PCA.html).\n",
    "\n",
    "Para validar manualmente tu implementación, si aplicas la función usando 10 componentes a todo el dataset de MNIST, las dos primeras imágenes del dataset se deben de transformar en los siguientes vectores:\n",
    "\n",
    "    [-630.22  730.97 -103.8 0, 96.75, -147.34, 469.26, -411.87,  603.64,  163.46, -244.03]\n",
    "    [1729.82, 336.95, 804.26, -61.50, -336.99, 617.00,  466.25, -212.64, -174.92,   94.88]\n",
    "\n",
    "\n",
    "\n",
    " "
   ]
  },
  {
   "cell_type": "code",
   "execution_count": null,
   "metadata": {
    "collapsed": false
   },
   "outputs": [],
   "source": [
    "import numpy as np\n",
    "\n",
    "def get_PCA(m, k):\n",
    "    from sklearn.decomposition import PCA\n",
    "    \n",
    "    pca_object       = ???\n",
    "    transformed_data = ???\n",
    "    \n",
    "    return transformed_data, pca_object\n",
    "\n",
    "import urllib, inspect\n",
    "src1 = urllib.quote_plus(inspect.getsource(get_PCA))"
   ]
  },
  {
   "cell_type": "markdown",
   "metadata": {},
   "source": [
    "#### evaluate your answer before submitting:"
   ]
  },
  {
   "cell_type": "code",
   "execution_count": null,
   "metadata": {
    "collapsed": false
   },
   "outputs": [],
   "source": [
    "!./run CHECK_SOLUTION PS2C_1 $src1"
   ]
  },
  {
   "cell_type": "markdown",
   "metadata": {},
   "source": [
    "#### submit your answer (you must be connected to internet)"
   ]
  },
  {
   "cell_type": "code",
   "execution_count": null,
   "metadata": {
    "collapsed": false
   },
   "outputs": [],
   "source": [
    "!./run SUBMIT_SOLUTION PS2C_1 $src1"
   ]
  },
  {
   "cell_type": "markdown",
   "metadata": {},
   "source": [
    "##  Ejercicio 2\n",
    "\n",
    "Completa la función siguiente para que:\n",
    "\n",
    "1. Ajuste un PCA con $k$ componentes a `d_train`\n",
    "2. Transforme `d_train` con el PCA obtenido\n",
    "3. Entrene un GaussianNB con `d_train` transformado\n",
    "4. Devuelva una tupla $(G, P)$ con los objetos GaussianNB y PCA respectivamente.\n",
    "\n",
    "No llames a la función del ejercicio anterior. \n"
   ]
  },
  {
   "cell_type": "code",
   "execution_count": null,
   "metadata": {
    "collapsed": false
   },
   "outputs": [],
   "source": [
    "def fit_PCA_GaussianNB(d_train,c_train,k):\n",
    "    \n",
    "    from sklearn.decomposition import PCA\n",
    "    from sklearn.naive_bayes import GaussianNB\n",
    "    \n",
    "    pca_object          = ???\n",
    "    gaussian_classifier = ???\n",
    "    \n",
    "    return gaussian_classifier, pca_object\n",
    "    \n",
    "import urllib, inspect\n",
    "src2 = urllib.quote_plus(inspect.getsource(fit_PCA_GaussianNB))"
   ]
  },
  {
   "cell_type": "markdown",
   "metadata": {},
   "source": [
    "#### evaluate your answer before submitting:"
   ]
  },
  {
   "cell_type": "code",
   "execution_count": null,
   "metadata": {
    "collapsed": false
   },
   "outputs": [],
   "source": [
    "!./run CHECK_SOLUTION PS2C_2 $src2"
   ]
  },
  {
   "cell_type": "markdown",
   "metadata": {},
   "source": [
    "#### submit your answer (you must be connected to internet)"
   ]
  },
  {
   "cell_type": "code",
   "execution_count": null,
   "metadata": {
    "collapsed": false
   },
   "outputs": [],
   "source": [
    "!./run SUBMIT_SOLUTION PS2C_2 $src2"
   ]
  },
  {
   "cell_type": "markdown",
   "metadata": {},
   "source": [
    "##  Ejercicio 3\n",
    "\n",
    "Completa la función siguiente para que:\n",
    "\n",
    "1. Cargue el fichero MNIST.\n",
    "2. Construya un PCA de 50 componentes con las primeras $m$ imágenes de MNIST.\n",
    "3. Entrene un GaussianNB con las primeras $m$ imágenes transformadas por el PCA anterior.\n",
    "4. Transforme las imágenes restantes con el PCA anterior.\n",
    "5. Obtenga el score de aplicar el GaussianNB anterior a las imágenes restantes transformadas\n",
    "\n",
    "No uses las funciones de los dos ejercicios anteriores. Implementa todo lo que necesites en la función de este ejercicio.\n",
    "\n",
    "Si ejecutas tu código con m=1000 el resultado debe de ser 0.834 y con m=500, 0.798"
   ]
  },
  {
   "cell_type": "code",
   "execution_count": null,
   "metadata": {
    "collapsed": false
   },
   "outputs": [],
   "source": [
    "import numpy as np\n",
    "def test_PCA_GaussianNB(m):\n",
    "    from sklearn.decomposition import PCA\n",
    "    from sklearn.naive_bayes import GaussianNB\n",
    "\n",
    "    score = ???\n",
    "    \n",
    "    return g.score(p.transform(d[m:]),c[m:])\n",
    "\n",
    "import urllib, inspect\n",
    "src3 = urllib.quote_plus(inspect.getsource(test_PCA_GaussianNB))"
   ]
  },
  {
   "cell_type": "markdown",
   "metadata": {},
   "source": [
    "#### evaluate your answer before submitting:"
   ]
  },
  {
   "cell_type": "code",
   "execution_count": null,
   "metadata": {
    "collapsed": false
   },
   "outputs": [],
   "source": [
    "!./run CHECK_SOLUTION PS2C_3 $src3"
   ]
  },
  {
   "cell_type": "markdown",
   "metadata": {},
   "source": [
    "#### submit your answer (you must be connected to internet)"
   ]
  },
  {
   "cell_type": "code",
   "execution_count": null,
   "metadata": {
    "collapsed": false
   },
   "outputs": [],
   "source": [
    "!./run SUBMIT_SOLUTION PS2C_3 $src3"
   ]
  },
  {
   "cell_type": "code",
   "execution_count": null,
   "metadata": {
    "collapsed": true
   },
   "outputs": [],
   "source": []
  }
 ],
 "metadata": {
  "kernelspec": {
   "display_name": "Python 2",
   "language": "python",
   "name": "python2"
  },
  "language_info": {
   "codemirror_mode": {
    "name": "ipython",
    "version": 2
   },
   "file_extension": ".py",
   "mimetype": "text/x-python",
   "name": "python",
   "nbconvert_exporter": "python",
   "pygments_lexer": "ipython2",
   "version": "2.7.10"
  },
  "toc": {
   "toc_cell": false,
   "toc_number_sections": true,
   "toc_threshold": 6,
   "toc_window_display": false
  }
 },
 "nbformat": 4,
 "nbformat_minor": 0
}
