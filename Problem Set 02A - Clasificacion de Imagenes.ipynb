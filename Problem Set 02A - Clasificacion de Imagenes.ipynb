{
 "cells": [
  {
   "cell_type": "markdown",
   "metadata": {},
   "source": [
    "## Problem Set 02A Clasificación de imágenes\n",
    "\n",
    "## EJECUTA ESTA CELDA PARA AUTENTICARTE CON TU CUENTA DE GMAIL"
   ]
  },
  {
   "cell_type": "code",
   "execution_count": null,
   "metadata": {
    "collapsed": false
   },
   "outputs": [],
   "source": [
    "from mooclib import *\n",
    "import inspect, urllib\n",
    "html, auth_code, userinfo = google_authenticate(PORT_NUMBER=8080)\n",
    "html"
   ]
  },
  {
   "cell_type": "markdown",
   "metadata": {},
   "source": [
    "##  Ejercicio 1\n",
    "\n",
    "Completa la función siguiente para que cargue el dataset mnist desde el fichero `data/mnist1.5k.csv` y extraiga una matriz $d \\in \\mathbb{R}^{m\\times 784}$ con las imágenes MNIST vectorizadas (una imagen en cada fila de la matriz) y un vector $c \\in \\mathbb{R}^m$ con las clases a las que pertenece cada imagen.\n"
   ]
  },
  {
   "cell_type": "code",
   "execution_count": null,
   "metadata": {
    "collapsed": false
   },
   "outputs": [],
   "source": [
    "import numpy as np\n",
    "def load_mnist():\n",
    "    d = ???\n",
    "    c = ???\n",
    "    return d,c\n",
    "\n",
    "import urllib, inspect\n",
    "src1 = urllib.quote_plus(inspect.getsource(load_mnist))"
   ]
  },
  {
   "cell_type": "markdown",
   "metadata": {},
   "source": [
    "#### evaluate your answer before submitting:"
   ]
  },
  {
   "cell_type": "code",
   "execution_count": null,
   "metadata": {
    "collapsed": false
   },
   "outputs": [],
   "source": [
    "!./run CHECK_SOLUTION PS2A_1 $src1"
   ]
  },
  {
   "cell_type": "markdown",
   "metadata": {},
   "source": [
    "#### submit your answer (you must be connected to internet)"
   ]
  },
  {
   "cell_type": "code",
   "execution_count": null,
   "metadata": {
    "collapsed": false
   },
   "outputs": [],
   "source": [
    "!./run SUBMIT_SOLUTION PS2A_1 $src1"
   ]
  },
  {
   "cell_type": "markdown",
   "metadata": {},
   "source": [
    "#### si tu solución es correcta puedes ver una muestra del dataset con el siguiente código"
   ]
  },
  {
   "cell_type": "code",
   "execution_count": null,
   "metadata": {
    "collapsed": false,
    "scrolled": true
   },
   "outputs": [],
   "source": [
    "d,c = load_mnist()\n",
    "\n",
    "import matplotlib.pyplot as plt\n",
    "%matplotlib inline\n",
    "%run -i code/show_mnist.py\n",
    "show_sample_mnist(d,c)"
   ]
  },
  {
   "cell_type": "markdown",
   "metadata": {},
   "source": [
    "## Ejercicio 2\n",
    "\n",
    "Completa la función siguiente para que dados:\n",
    "\n",
    "- Una matriz $d$ de $m \\times n$, con $m$ datos y $n$ atributos por dato.\n",
    "- Un vector $c$ de $m$ elementos con la clase a la que pertenece cada dato de la matriz $d$.\n",
    "- Un clasificador de `sklearn`\n",
    "- Un porcentaje deseado de datos para test\n",
    "\n",
    "Haga lo siguiente:\n",
    "\n",
    "- Divida el $d$ y $c$ en dos partes para entrenamiento y test según el porcentaje deseado\n",
    "- Entrene el clasificador con los datos de train\n",
    "- Mida el desempeño con los datos de test\n",
    "- Devuelva el desempeño medido"
   ]
  },
  {
   "cell_type": "code",
   "execution_count": null,
   "metadata": {
    "collapsed": true
   },
   "outputs": [],
   "source": [
    "def classify(d,c, classifier, test_size=0.2):\n",
    "    from sklearn.cross_validation import train_test_split\n",
    "    \n",
    "    score = ???\n",
    "    return score\n",
    "\n",
    "import urllib, inspect\n",
    "src2 = urllib.quote_plus(inspect.getsource(classify))"
   ]
  },
  {
   "cell_type": "code",
   "execution_count": null,
   "metadata": {
    "collapsed": false
   },
   "outputs": [],
   "source": [
    "# TRY YOUR CODE\n",
    "from sklearn.naive_bayes import GaussianNB\n",
    "d,c = load_mnist()\n",
    "classify(d,c,GaussianNB())"
   ]
  },
  {
   "cell_type": "markdown",
   "metadata": {},
   "source": [
    "#### evaluate your answer before submitting:"
   ]
  },
  {
   "cell_type": "code",
   "execution_count": null,
   "metadata": {
    "collapsed": false
   },
   "outputs": [],
   "source": [
    "!./run CHECK_SOLUTION PS2A_2 $src2"
   ]
  },
  {
   "cell_type": "markdown",
   "metadata": {},
   "source": [
    "#### submit your answer (you must be connected to internet)"
   ]
  },
  {
   "cell_type": "code",
   "execution_count": null,
   "metadata": {
    "collapsed": false
   },
   "outputs": [],
   "source": [
    "!./run SUBMIT_SOLUTION PS2A_2 $src2"
   ]
  },
  {
   "cell_type": "markdown",
   "metadata": {},
   "source": [
    "## Ejercicio 3\n",
    "\n",
    "Completa la función siguiente para que llame a a función anterior el número de veces especificado por el parámetro `repeat` y devuelva la media y desviación estándar del desempeño en test.:"
   ]
  },
  {
   "cell_type": "code",
   "execution_count": null,
   "metadata": {
    "collapsed": true
   },
   "outputs": [],
   "source": [
    "def classify_avg(d,c,classifier,repeat=10, test_size=0.2):\n",
    "    \n",
    "    mean_score = ???\n",
    "    std_score  = ???\n",
    "    \n",
    "    return mean_score, std_score\n",
    "\n",
    "import urllib, inspect\n",
    "src3 = urllib.quote_plus(inspect.getsource(classify)+\"\\n\"+inspect.getsource(classify_avg))"
   ]
  },
  {
   "cell_type": "markdown",
   "metadata": {},
   "source": [
    "Comprueba tu código ... la clasificación promedio debe de estar alrededor de 0.58"
   ]
  },
  {
   "cell_type": "code",
   "execution_count": null,
   "metadata": {
    "collapsed": false
   },
   "outputs": [],
   "source": [
    "from sklearn.naive_bayes import GaussianNB\n",
    "classify_avg(d,c,GaussianNB())"
   ]
  },
  {
   "cell_type": "markdown",
   "metadata": {},
   "source": [
    "#### evaluate your answer before submitting:"
   ]
  },
  {
   "cell_type": "code",
   "execution_count": null,
   "metadata": {
    "collapsed": false
   },
   "outputs": [],
   "source": [
    "!./run CHECK_SOLUTION PS2A_3 $src3"
   ]
  },
  {
   "cell_type": "markdown",
   "metadata": {},
   "source": [
    "#### submit your answer (you must be connected to internet)"
   ]
  },
  {
   "cell_type": "code",
   "execution_count": null,
   "metadata": {
    "collapsed": false
   },
   "outputs": [],
   "source": [
    "!./run SUBMIT_SOLUTION PS2A_3 $src3"
   ]
  },
  {
   "cell_type": "markdown",
   "metadata": {},
   "source": [
    "## Ejercicio 4\n",
    "\n",
    "Completa la función siguiente para que, dados unos datos $d$ y sus clases esperadas $c$:\n",
    "\n",
    "- Use la función del ejercicio anterior para clasificar con un GaussianNB\n",
    "- Use la función del ejercicio anterior para clasificar con un DecisionTreeClassifier\n",
    "- Devuelva cuatro valores en este orden: \n",
    "   - media y desviación estándar de la clasificación con GaussianNB\n",
    "   - media y desviación estándar de la clasificación con DecissionTreeClassifier\n",
    "   \n"
   ]
  },
  {
   "cell_type": "code",
   "execution_count": null,
   "metadata": {
    "collapsed": false
   },
   "outputs": [],
   "source": [
    "\n",
    "def NBDT_MNIST(d, c, repeat=10, test_size=0.2):\n",
    "\n",
    "    from sklearn.tree import DecisionTreeClassifier \n",
    "    from sklearn.naive_bayes import GaussianNB\n",
    "\n",
    "    meanNB, stdNB = ???\n",
    "    meanDT, stdDT = ???\n",
    "\n",
    "    return meanNB, stdNB, meanDT, stdDT\n",
    "    \n",
    "import urllib, inspect\n",
    "src4 = urllib.quote_plus(inspect.getsource(classify)+\"\\n\"\n",
    "                         +inspect.getsource(classify_avg)+\"\\n\"\n",
    "                         +inspect.getsource(NBDT_MNIST))"
   ]
  },
  {
   "cell_type": "code",
   "execution_count": null,
   "metadata": {
    "collapsed": false
   },
   "outputs": [],
   "source": [
    "d, c = load_mnist()\n",
    "meanNB, stdNB, meanDT, stdDT = NBDT_MNIST(d, c)\n",
    "print \"Gaussian      %.3f (+/- %.3f)\"%(meanNB, stdNB)\n",
    "print \"Decision Tree %.3f (+/- %.3f)\"%(meanDT, stdDT)"
   ]
  },
  {
   "cell_type": "markdown",
   "metadata": {},
   "source": [
    "#### evaluate your answer before submitting:"
   ]
  },
  {
   "cell_type": "code",
   "execution_count": null,
   "metadata": {
    "collapsed": false
   },
   "outputs": [],
   "source": [
    "!./run CHECK_SOLUTION PS2A_4 $src4"
   ]
  },
  {
   "cell_type": "markdown",
   "metadata": {},
   "source": [
    "#### submit your answer (you must be connected to internet)"
   ]
  },
  {
   "cell_type": "code",
   "execution_count": null,
   "metadata": {
    "collapsed": false
   },
   "outputs": [],
   "source": [
    "!./run SUBMIT_SOLUTION PS2A_4 $src4"
   ]
  },
  {
   "cell_type": "code",
   "execution_count": null,
   "metadata": {
    "collapsed": true
   },
   "outputs": [],
   "source": []
  }
 ],
 "metadata": {
  "kernelspec": {
   "display_name": "Python 2",
   "language": "python",
   "name": "python2"
  },
  "language_info": {
   "codemirror_mode": {
    "name": "ipython",
    "version": 2
   },
   "file_extension": ".py",
   "mimetype": "text/x-python",
   "name": "python",
   "nbconvert_exporter": "python",
   "pygments_lexer": "ipython2",
   "version": "2.7.10"
  },
  "toc": {
   "toc_cell": false,
   "toc_number_sections": true,
   "toc_threshold": 6,
   "toc_window_display": false
  }
 },
 "nbformat": 4,
 "nbformat_minor": 0
}
