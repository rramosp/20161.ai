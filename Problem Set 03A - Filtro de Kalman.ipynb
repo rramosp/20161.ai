{
 "cells": [
  {
   "cell_type": "markdown",
   "metadata": {},
   "source": [
    "# Problem Set 03A Filtros de Kalman\n",
    "\n",
    "## EJECUTA ESTA CELDA PARA AUTENTICARTE CON TU CUENTA DE GMAIL"
   ]
  },
  {
   "cell_type": "code",
   "execution_count": null,
   "metadata": {
    "collapsed": false
   },
   "outputs": [],
   "source": [
    "from mooclib import *\n",
    "import inspect, urllib\n",
    "html, auth_code, userinfo = google_authenticate(PORT_NUMBER=8080)\n",
    "html"
   ]
  },
  {
   "cell_type": "markdown",
   "metadata": {},
   "source": [
    "## Ejercicio 1\n",
    "\n",
    "Completa la función siguiente para que, dada un array `m` con mediciones, devuelva el mismo array al que a cada elemento se le ha añadido un ruido gausiano de media 0 y desviación estándar `s`. El ruido añadido a cada elemento ha de ser independiente.\n",
    "\n",
    "Considera usar la función [`random.normal`](http://docs.scipy.org/doc/numpy-1.10.1/reference/generated/numpy.random.normal.html) de Numpy"
   ]
  },
  {
   "cell_type": "code",
   "execution_count": null,
   "metadata": {
    "collapsed": false
   },
   "outputs": [],
   "source": [
    "def add_noise(m, s):\n",
    "    import numpy as np\n",
    "\n",
    "    noisy_data = ???\n",
    "    \n",
    "    return noisy_data\n",
    "\n",
    "import urllib, inspect\n",
    "src1 = urllib.quote_plus(inspect.getsource(add_noise))"
   ]
  },
  {
   "cell_type": "markdown",
   "metadata": {},
   "source": [
    "\n",
    "Puedes comprobar tu solución con el siguiente código en el que se le añade ruido con tu función a un array de unos. El histograma generado ha de tener la forma gausiana centrada en 1."
   ]
  },
  {
   "cell_type": "code",
   "execution_count": null,
   "metadata": {
    "collapsed": false
   },
   "outputs": [],
   "source": [
    "import matplotlib.pyplot as plt\n",
    "import numpy as np\n",
    "%matplotlib inline\n",
    "x = add_noise(np.ones(10000),1)\n",
    "plt.hist(x, bins=30);"
   ]
  },
  {
   "cell_type": "markdown",
   "metadata": {},
   "source": [
    "#### evaluate your answer before submitting:"
   ]
  },
  {
   "cell_type": "code",
   "execution_count": null,
   "metadata": {
    "collapsed": false
   },
   "outputs": [],
   "source": [
    "!./run CHECK_SOLUTION PS3A_1 $src1"
   ]
  },
  {
   "cell_type": "markdown",
   "metadata": {},
   "source": [
    "#### submit your answer (you must be connected to internet)"
   ]
  },
  {
   "cell_type": "code",
   "execution_count": null,
   "metadata": {
    "collapsed": false
   },
   "outputs": [],
   "source": [
    "!./run SUBMIT_SOLUTION PS3A_1 $src1"
   ]
  },
  {
   "cell_type": "markdown",
   "metadata": {
    "collapsed": true
   },
   "source": [
    "## Ejercicio 2\n",
    "\n",
    "Utiliza un filtro de Kalman para estimar la posición de un robot 1D con velocidad constante. La función que tienes que implementar acepta los siguientes argumentos:\n",
    "\n",
    "- **measurements**: un array `numpy` $\\in \\mathbb{R}^n$ con `n` medidas ruidosas de posición 1D.\n",
    "- **estimated_init_pos**: una estimación de la posición inicial del robot.\n",
    "- **estimated_vel**: una estimación de la velocidad del robot.\n",
    "\n",
    "Mediante un filtro de Kalman la función ha de producir una estimación de la posición real del robot a partir de las medidas. Usa para ello una matrix **F** correspondiente al siguiente modelo físico:\n",
    "\n",
    "$$s^- = s + v$$\n",
    "$$v^- = v$$\n",
    "    \n",
    "con una matriz **H=[1,0]** y unos parámetros **P=1**, **R=40**, **Q=0**\n",
    "\n",
    "La función ha de devolver un array `numpy` con las mismas dimensiones (`shape`) que las medidas de entrada."
   ]
  },
  {
   "cell_type": "code",
   "execution_count": null,
   "metadata": {
    "collapsed": false
   },
   "outputs": [],
   "source": [
    "%run -i code/filter.py\n",
    "\n",
    "def constant_velocity_estimation(measurements, estimated_init_pos, estimated_vel):\n",
    "    F = ????\n",
    "    H = ???? \n",
    "    P, R, Q = ????\n",
    "    \n",
    "    init_x = ???? \n",
    "    \n",
    "    k = ??? ... create kalman filter\n",
    "\n",
    "    kalman_positions     = ????\n",
    "    return kalman_positions\n",
    "\n",
    "import urllib, inspect\n",
    "src2 = urllib.quote_plus(inspect.getsource(constant_velocity_estimation))"
   ]
  },
  {
   "cell_type": "markdown",
   "metadata": {},
   "source": [
    "Puedes verificar tu implementación con el siguiente código. La predicción del filtro de Kalman debería de en gran medida con la posición real del robot."
   ]
  },
  {
   "cell_type": "code",
   "execution_count": null,
   "metadata": {
    "collapsed": false
   },
   "outputs": [],
   "source": [
    "%run -i code/filter.py\n",
    "%matplotlib inline\n",
    "o = ConstantVelocityRobot(init_pos=0, vel=1, mnoise=10)\n",
    "o.move_n_time_steps(100)\n",
    "m = np.array(o.m_history)\n",
    "k = constant_velocity_estimation(m, 0, 1)\n",
    "print m.shape, k.shape\n",
    "p = np.array(o.pos_history)\n",
    "plt.plot(range(len(p)), p, label=\"real position\")\n",
    "plt.plot(range(len(m)), m, label=\"measurements\")\n",
    "plt.plot(range(len(k)), k, label=\"kalman\")\n",
    "plt.legend(loc='center left', bbox_to_anchor=(1, 0.5));"
   ]
  },
  {
   "cell_type": "markdown",
   "metadata": {},
   "source": [
    "#### evaluate your answer before submitting:"
   ]
  },
  {
   "cell_type": "code",
   "execution_count": null,
   "metadata": {
    "collapsed": false,
    "scrolled": false
   },
   "outputs": [],
   "source": [
    "!./run CHECK_SOLUTION PS3A_2 $src2"
   ]
  },
  {
   "cell_type": "markdown",
   "metadata": {
    "collapsed": false
   },
   "source": [
    "#### submit your answer (you must be connected to internet)"
   ]
  },
  {
   "cell_type": "code",
   "execution_count": null,
   "metadata": {
    "collapsed": false
   },
   "outputs": [],
   "source": [
    "!./run SUBMIT_SOLUTION PS3A_2 $src2"
   ]
  },
  {
   "cell_type": "markdown",
   "metadata": {
    "collapsed": true
   },
   "source": [
    "## Ejercicio 3\n",
    "\n",
    "Utiliza un filtro de Kalman para estimar la posición de un robot 1D con velocidad constante. La función que tienes que implementar acepta los siguientes argumentos:\n",
    "\n",
    "- **measurements**: un array `numpy` $\\in \\mathbb{R}^n$ con `n` medidas ruidosas de posición 1D.\n",
    "- **estimated_init_pos**: una estimación de la posición inicial del robot.\n",
    "- **estimated_init_vel**: una estimación de la velocidad inicial del robot.\n",
    "- **estimated_accel**: una estimación de la aceleración del robot.\n",
    "\n",
    "Mediante un filtro de Kalman la función ha de producir una estimación de la posición real del robot a partir de las medidas. Usa para ello una matrix **F** correspondiente al siguiente modelo físico:\n",
    "\n",
    "$$s^- = s + v + a$$\n",
    "$$v^- = v + a$$\n",
    "$$a^- = a$$\n",
    "    \n",
    "con una matriz **H=[1,0,0]** y unos parámetros **P=1**, **R=40**, **Q=0**\n",
    "\n",
    "Observa que el estado del sistema ahora tiene tres componentes: $s$, $v$ y $a$ y por tanto el estado inicial `init_x` se construye con las estimaciones de la posición y velocidad iniciales y de la aceleración.\n",
    "\n",
    "La función ha de devolver un array `numpy` con las mismas dimensiones (`shape`) que las medidas de entrada."
   ]
  },
  {
   "cell_type": "code",
   "execution_count": null,
   "metadata": {
    "collapsed": true
   },
   "outputs": [],
   "source": [
    "%run -i code/filter.py\n",
    "\n",
    "def constant_acceleration_estimation(measurements, estimated_init_pos, estimated_init_vel, estimated_accel):\n",
    "    F = ????\n",
    "    H = ???? \n",
    "    P, R, Q = ????\n",
    "    \n",
    "    init_x = ???? \n",
    "    \n",
    "    k = ??? ... create kalman filter\n",
    "\n",
    "    kalman_positions     = ????\n",
    "    return kalman_positions\n",
    "\n",
    "import urllib, inspect\n",
    "src3 = urllib.quote_plus(inspect.getsource(constant_acceleration_estimation))"
   ]
  },
  {
   "cell_type": "markdown",
   "metadata": {},
   "source": [
    "Puedes verificar tu implementación con el siguiente código. La predicción del filtro de Kalman debería de en gran medida con la posición real del robot."
   ]
  },
  {
   "cell_type": "code",
   "execution_count": null,
   "metadata": {
    "collapsed": false
   },
   "outputs": [],
   "source": [
    "%run -i code/filter.py\n",
    "%matplotlib inline\n",
    "o = ConstantAccelerationRobot(init_pos=0, init_vel=1, accel=1, mnoise=500)\n",
    "o.move_n_time_steps(100)\n",
    "m = np.array(o.m_history)\n",
    "k = constant_acceleration_estimation(m, 0, 1, 1)\n",
    "print m.shape, k.shape\n",
    "p = np.array(o.pos_history)\n",
    "plt.plot(range(len(p)), p, label=\"real position\")\n",
    "plt.plot(range(len(m)), m, label=\"measurements\")\n",
    "plt.plot(range(len(k)), k, label=\"kalman\")\n",
    "plt.legend(loc='center left', bbox_to_anchor=(1, 0.5));"
   ]
  },
  {
   "cell_type": "markdown",
   "metadata": {},
   "source": [
    "#### evaluate your answer before submitting:"
   ]
  },
  {
   "cell_type": "code",
   "execution_count": null,
   "metadata": {
    "collapsed": false
   },
   "outputs": [],
   "source": [
    "!./run CHECK_SOLUTION PS3A_3 $src3"
   ]
  },
  {
   "cell_type": "markdown",
   "metadata": {},
   "source": [
    "#### submit your answer (you must be connected to internet)"
   ]
  },
  {
   "cell_type": "code",
   "execution_count": null,
   "metadata": {
    "collapsed": false
   },
   "outputs": [],
   "source": [
    "!./run SUBMIT_SOLUTION PS3A_3 $src3"
   ]
  },
  {
   "cell_type": "code",
   "execution_count": null,
   "metadata": {
    "collapsed": true
   },
   "outputs": [],
   "source": []
  }
 ],
 "metadata": {
  "kernelspec": {
   "display_name": "Python 2",
   "language": "python",
   "name": "python2"
  },
  "language_info": {
   "codemirror_mode": {
    "name": "ipython",
    "version": 2
   },
   "file_extension": ".py",
   "mimetype": "text/x-python",
   "name": "python",
   "nbconvert_exporter": "python",
   "pygments_lexer": "ipython2",
   "version": "2.7.10"
  },
  "toc": {
   "toc_cell": false,
   "toc_number_sections": false,
   "toc_threshold": 6,
   "toc_window_display": false
  }
 },
 "nbformat": 4,
 "nbformat_minor": 0
}
