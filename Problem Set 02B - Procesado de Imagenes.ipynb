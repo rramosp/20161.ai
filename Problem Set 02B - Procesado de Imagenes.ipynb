{
 "cells": [
  {
   "cell_type": "markdown",
   "metadata": {},
   "source": [
    "## Problem Set 02B Procesado de Imágenes\n",
    "\n",
    "## EJECUTA ESTA CELDA PARA AUTENTICARTE CON TU CUENTA DE GMAIL"
   ]
  },
  {
   "cell_type": "code",
   "execution_count": null,
   "metadata": {
    "collapsed": false
   },
   "outputs": [],
   "source": [
    "from mooclib import *\n",
    "import inspect, urllib\n",
    "html, auth_code, userinfo = google_authenticate(PORT_NUMBER=8080)\n",
    "html"
   ]
  },
  {
   "cell_type": "markdown",
   "metadata": {},
   "source": [
    "## Ejercicio 1 \n",
    "\n",
    "Completa la función `convolution` para que dada una matriz $A \\in \\mathbb{R}^{m_1\\times n_1}$ y un filtro $f \\in \\mathbb{R}^{m_2 \\times n_2}$ devuelva una matriz $C \\in \\mathbb{R}^{m \\times n}$ con $m=m_1 - m_2 + 1$ y $n = n_1 - n_2 + 1$\n",
    "\n",
    "Al hacer la convolución, el filtro $f$ se desplaza sobre la matriz $A$ y por cada parche $p$ de sobre el que se superpone el pixel $C_j$ correspondiente de $C$ se calcula por:\n",
    "\n",
    "$$ C_j = \\sum_i p_i f_i $$\n",
    "\n",
    "es decir, multiplicando $p$ y $f$ elemento a elemento y sumando los resultados.\n",
    "\n",
    "\n",
    "#### Ejemplo de ejecución\n",
    "\n",
    "    A = np.array([[1,2,1,2,1,2],\n",
    "                  [2,3,2,3,2,3],\n",
    "                  [4,3,4,3,4,3],\n",
    "                  [6,4,6,4,6,4],\n",
    "                  [7,5,7,5,7,5]])\n",
    "                  \n",
    "    f = np.array([[2,2,2],\n",
    "                  [2,2,2]])\n",
    "\n",
    "    > convolution(A, f)\n",
    "\n",
    "#### Resultado esperado\n",
    "\n",
    "    [[ 22.  26.  22.  26.]\n",
    "     [ 36.  36.  36.  36.]\n",
    "     [ 54.  48.  54.  48.]\n",
    "     [ 70.  62.  70.  62.]]\n",
    " "
   ]
  },
  {
   "cell_type": "code",
   "execution_count": null,
   "metadata": {
    "collapsed": true
   },
   "outputs": [],
   "source": [
    "import numpy as np\n",
    "\n",
    "def convolution(A, f):\n",
    "    cols = A.shape[0]-f.shape[0]+1\n",
    "    rows = A.shape[1]-f.shape[1]+1\n",
    " \n",
    "    if cols<=0 or rows<=0:\n",
    "        raise ValueError(\"filter must be smaller than matrix\")\n",
    "    \n",
    "    result = ????\n",
    "    \n",
    "    return result\n",
    "\n",
    "import urllib, inspect\n",
    "src1 = urllib.quote_plus(inspect.getsource(convolution))"
   ]
  },
  {
   "cell_type": "code",
   "execution_count": null,
   "metadata": {
    "collapsed": false
   },
   "outputs": [],
   "source": [
    "# -- VERIFICA TU CODIGO --\n",
    "A = np.array([[1,2,1,2,1,2],[2,3,2,3,2,3],[4,3,4,3,4,3],[6,4,6,4,6,4],[7,5,7,5,7,5]])\n",
    "f = np.array([[2,2,2],[2,2,2]])\n",
    "print convolution(A,f)"
   ]
  },
  {
   "cell_type": "markdown",
   "metadata": {},
   "source": [
    "#### evaluate your answer before submitting:"
   ]
  },
  {
   "cell_type": "code",
   "execution_count": null,
   "metadata": {
    "collapsed": false
   },
   "outputs": [],
   "source": [
    "!./run CHECK_SOLUTION PS2B_1 $src1"
   ]
  },
  {
   "cell_type": "markdown",
   "metadata": {},
   "source": [
    "#### submit your answer (you must be connected to internet)"
   ]
  },
  {
   "cell_type": "code",
   "execution_count": null,
   "metadata": {
    "collapsed": false
   },
   "outputs": [],
   "source": [
    "!./run SUBMIT_SOLUTION PS2B_1 $src1"
   ]
  },
  {
   "cell_type": "markdown",
   "metadata": {},
   "source": [
    "puedes ver también cómo funciona tu código con una imagen y un filtro concreto. El resultado debería de mostrar los bordes verticales de la imagen original"
   ]
  },
  {
   "cell_type": "code",
   "execution_count": null,
   "metadata": {
    "collapsed": false
   },
   "outputs": [],
   "source": [
    "import numpy as np\n",
    "from skimage import io\n",
    "import matplotlib.pyplot as plt\n",
    "%matplotlib inline\n",
    "\n",
    "img = io.imread(\"imgs/puente.jpg\")\n",
    "gimg = np.mean(img, axis=2)\n",
    "\n",
    "\n",
    "f = np.array([[0, 0, 0],\n",
    "              [0,-1, 1],\n",
    "              [0, 0, 0]])\n",
    "\n",
    "bimg = convolution(gimg, f)\n",
    "\n",
    "fig = plt.figure(figsize=(10,5))\n",
    "fig.add_subplot(121)\n",
    "\n",
    "plt.imshow(gimg, cmap = plt.cm.Greys_r)\n",
    "fig.add_subplot(122)\n",
    "\n",
    "plt.imshow(np.abs(bimg), cmap = plt.cm.Greys_r);\n"
   ]
  },
  {
   "cell_type": "markdown",
   "metadata": {},
   "source": [
    "##  Ejercicio 2\n",
    "\n",
    "Completa la función siguiente para que:\n",
    "\n",
    "1. Cargue el fichero `data/mnist1.5k.csv` con las imágenes de MNIST como en el problem set anterior\n",
    "- Le aplique a cada imagen un filtro de 6x6 unos (todos los elementos con el valor 1)      \n",
    "- devuelva:\n",
    "   - una matriz `df`, en la que cada linea contiene la imagen de la linea correspondiente de MNIST pero con el filtro anterior aplicado con convolución.\n",
    "   - un vector `c` con las clases a las que pertenece cada imagen.\n",
    "   \n",
    "Observa que cada imagen original es de 28x28, pero al aplicarle el filtro anterior quedan de 23x23, por lo que `df` $\\in \\mathbb{R}^{1500x529}$\n",
    "\n",
    "Usa el método [`reshape`](http://docs.scipy.org/doc/numpy-1.10.1/reference/generated/numpy.reshape.html) para construir una imagen de 28x28 desde la original antes de aplicarle la convolución y para construir un vector de 529 elementos con la imagen de 23x23 resultante de la convolución.\n",
    "\n",
    "Aplica el método de convolución anterior tal cual, no normalizes los valores de intensidad de las imágenes."
   ]
  },
  {
   "cell_type": "code",
   "execution_count": null,
   "metadata": {
    "collapsed": false
   },
   "outputs": [],
   "source": [
    "def mnist_blurred():\n",
    "    df = ???\n",
    "    c  = ???\n",
    "    \n",
    "    return df, c\n",
    "\n",
    "import urllib, inspect\n",
    "src2 = urllib.quote_plus(inspect.getsource(mnist_blurred)+\"\\n\"+inspect.getsource(convolution))"
   ]
  },
  {
   "cell_type": "markdown",
   "metadata": {},
   "source": [
    "#### evaluate your answer before submitting:"
   ]
  },
  {
   "cell_type": "code",
   "execution_count": null,
   "metadata": {
    "collapsed": false
   },
   "outputs": [],
   "source": [
    "!./run CHECK_SOLUTION PS2B_2 $src2"
   ]
  },
  {
   "cell_type": "markdown",
   "metadata": {},
   "source": [
    "#### submit your answer (you must be connected to internet)"
   ]
  },
  {
   "cell_type": "code",
   "execution_count": null,
   "metadata": {
    "collapsed": false
   },
   "outputs": [],
   "source": [
    "!./run SUBMIT_SOLUTION PS2B_2 $src2"
   ]
  },
  {
   "cell_type": "markdown",
   "metadata": {},
   "source": [
    "#### fíjate en el efecto que tiene la convolución con ese filtro en MNIST"
   ]
  },
  {
   "cell_type": "code",
   "execution_count": null,
   "metadata": {
    "collapsed": false
   },
   "outputs": [],
   "source": [
    "import matplotlib.pyplot as plt\n",
    "%matplotlib inline\n",
    "%run -i code/show_mnist.py\n",
    "df,c = mnist_blurred()\n",
    "show_sample_mnist(df,c)"
   ]
  },
  {
   "cell_type": "markdown",
   "metadata": {},
   "source": [
    "##  Ejercicio 3\n",
    "\n",
    "Completa la función siguiente para que:\n",
    "\n",
    "1. Cargue el fichero MNIST transformado según el ejercicio anterior\n",
    "- Entrene un `GuassianNB` con los primeros 1000 elementos\n",
    "- Devuelva el model `GaussianNB` entrenado\n",
    "\n",
    "Puedes verificar tu código añadiendo celdas adicionales y obteniendo el score con los datos de entrenamiento (los primeros 1000) y con los datos de test (los últimos 500). Para los datos de entrenamiento el score debería de ser 0.705 y para los de test debería de ser 0.710"
   ]
  },
  {
   "cell_type": "code",
   "execution_count": null,
   "metadata": {
    "collapsed": false
   },
   "outputs": [],
   "source": [
    "import numpy as np\n",
    "def build_gaussian():\n",
    "    from sklearn.naive_bayes import GaussianNB\n",
    "    df,c  = ???\n",
    "    score = ???\n",
    "    return score\n",
    "\n",
    "import urllib, inspect\n",
    "src3 = urllib.quote_plus(inspect.getsource(mnist_blurred)+\"\\n\"+\n",
    "                         inspect.getsource(convolution)+\"\\n\"+\n",
    "                         inspect.getsource(build_gaussian))"
   ]
  },
  {
   "cell_type": "markdown",
   "metadata": {},
   "source": [
    "#### evaluate your answer before submitting:"
   ]
  },
  {
   "cell_type": "code",
   "execution_count": null,
   "metadata": {
    "collapsed": false
   },
   "outputs": [],
   "source": [
    "!./run CHECK_SOLUTION PS2B_3 $src3"
   ]
  },
  {
   "cell_type": "markdown",
   "metadata": {},
   "source": [
    "#### submit your answer (you must be connected to internet)"
   ]
  },
  {
   "cell_type": "code",
   "execution_count": null,
   "metadata": {
    "collapsed": false
   },
   "outputs": [],
   "source": [
    "!./run SUBMIT_SOLUTION PS2B_3 $src3"
   ]
  }
 ],
 "metadata": {
  "kernelspec": {
   "display_name": "Python 2",
   "language": "python",
   "name": "python2"
  },
  "language_info": {
   "codemirror_mode": {
    "name": "ipython",
    "version": 2
   },
   "file_extension": ".py",
   "mimetype": "text/x-python",
   "name": "python",
   "nbconvert_exporter": "python",
   "pygments_lexer": "ipython2",
   "version": "2.7.10"
  },
  "toc": {
   "toc_cell": false,
   "toc_number_sections": true,
   "toc_threshold": 6,
   "toc_window_display": false
  }
 },
 "nbformat": 4,
 "nbformat_minor": 0
}
