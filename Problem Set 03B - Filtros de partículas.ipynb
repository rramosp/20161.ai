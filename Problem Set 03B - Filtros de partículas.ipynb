{
 "cells": [
  {
   "cell_type": "markdown",
   "metadata": {},
   "source": [
    "# Problem Set 03B Filtros de Partículas\n",
    "\n",
    "## EJECUTA ESTA CELDA PARA AUTENTICARTE CON TU CUENTA DE GMAIL"
   ]
  },
  {
   "cell_type": "code",
   "execution_count": null,
   "metadata": {
    "collapsed": false
   },
   "outputs": [],
   "source": [
    "from mooclib import *\n",
    "import inspect, urllib\n",
    "html, auth_code, userinfo = google_authenticate(PORT_NUMBER=8080)\n",
    "html"
   ]
  },
  {
   "cell_type": "markdown",
   "metadata": {},
   "source": [
    "Observa cómo usamos un robot en 2D con orientación. Esta clase la usamos para representar nuestro robot y también para representar las partículas. Observa cómo creamos el robot y medimos su distancia a las balizas.\n"
   ]
  },
  {
   "cell_type": "code",
   "execution_count": null,
   "metadata": {
    "collapsed": false
   },
   "outputs": [],
   "source": [
    "%run -i code/filter.py\n",
    "lmarks  = [[20.0, 20.0], [80.0, 80.0], [20.0, 80.0], [80.0, 20.0]]\n",
    "wsize   = 100.0\n",
    "\n",
    "myrobot = RobotPosition(lmarks, wsize)\n",
    "myrobot.x, myrobot.y = 70,70\n",
    "myrobot.sense_noise  = 2.\n",
    "print myrobot\n",
    "print \"%6.3f %6.3f %6.3f %6.3f\"%tuple(myrobot.sense())\n",
    "print \"%6.3f %6.3f %6.3f %6.3f\"%tuple(myrobot.sense())\n",
    "print \"%6.3f %6.3f %6.3f %6.3f\"%tuple(myrobot.sense())\n",
    "myrobot = myrobot.move(turn=0., forward=20)\n",
    "print \"--- robot moved ---\"\n",
    "print myrobot\n",
    "print \"%6.3f %6.3f %6.3f %6.3f\"%tuple(myrobot.sense())\n",
    "print \"%6.3f %6.3f %6.3f %6.3f\"%tuple(myrobot.sense())\n",
    "print \"%6.3f %6.3f %6.3f %6.3f\"%tuple(myrobot.sense())\n"
   ]
  },
  {
   "cell_type": "markdown",
   "metadata": {},
   "source": [
    "## Ejercicio 1\n",
    "\n",
    "Crea una función que para una partícula y una medida, devuelva la probabilidad de que la partícula haya realizado esa medida, según lo descrito en las notas de la lección ([aquí](Notas%2003C%20-%20Filtros%20de%20Partículas.ipynb))\n",
    "\n",
    "El argumento `particula` es una instancia de la clase `RobotPosition`. La clase tiene un atributo `landmarks` que es una lista de tuplas con las posiciones de las balizas. El argumento `measurement` es una lista con tantos elementos como balizas y contiene la medida realizada por un robot a cada una de las balizas.\n",
    "\n",
    "**Ejemplo de ejecución**\n",
    "\n",
    "Entrada:\n",
    "\n",
    "    lmarks  = [[20.0, 20.0], [80.0, 80.0], [20.0, 80.0], [80.0, 20.0]]\n",
    "    wsize   = 100.0\n",
    "\n",
    "    myrobot = RobotPosition(lmarks, wsize)\n",
    "    myrobot.x, myrobot.y = 70,70\n",
    "    myrobot.sense_noise  = 5.\n",
    "    measurement = myrobot.sense()\n",
    "    print myrobot\n",
    "\n",
    "    p = RobotPosition(lmarks, wsize)\n",
    "    p.x, p.y = myrobot.x, myrobot.y\n",
    "    p.sense_noise = myrobot.sense_noise\n",
    "    print p\n",
    "    print measurement_prob(p,measurement)\n",
    "\n",
    "    for i in range(10):\n",
    "        p = RobotPosition(lmarks, wsize)\n",
    "        p.sense_noise = myrobot.sense_noise\n",
    "        prob = measurement_prob(p,measurement)\n",
    "        print p, prob\n",
    "    \n",
    "    \n",
    "Salida (los valores serán distintos pero de magnitud similar):\n",
    "\n",
    "    [x=70 y=70 orient=0.5939]\n",
    "    [x=70 y=70 orient=4.7417]\n",
    "    1.20739526925e-05\n",
    "    [x=35.058 y=22.766 orient=2.5137] 1.57800255111e-70\n",
    "    [x=73.985 y=89.160 orient=0.0581] 4.68426868039e-09\n",
    "    [x=37.750 y=77.126 orient=1.0866] 4.58135003998e-25\n",
    "    [x=58.429 y=90.984 orient=0.8507] 1.09546626438e-10\n",
    "    [x=94.533 y=50.080 orient=0.1796] 3.87269033669e-24\n",
    "    [x=11.787 y=99.159 orient=0.0627] 5.16256080313e-64\n",
    "    [x=38.201 y=4.0926 orient=5.9957] 3.59484963092e-86\n",
    "    [x=40.393 y=94.338 orient=6.1878] 2.11978338183e-25\n",
    "    [x=30.119 y=20.642 orient=2.6737] 7.55580454417e-81\n",
    "    [x=96.038 y=96.639 orient=5.1351] 1.28879112854e-29"
   ]
  },
  {
   "cell_type": "code",
   "execution_count": null,
   "metadata": {
    "collapsed": true
   },
   "outputs": [],
   "source": [
    "%run -i code/filter.py\n",
    "\n",
    "def measurement_prob(particle, measurement):\n",
    "    import numpy as np\n",
    "    \n",
    "    def Gaussian(mu, sigma, x):\n",
    "        # calculates the probability of x for 1-dim Gaussian with mean mu and var. sigma\n",
    "        return np.exp(- ((mu - x) ** 2) / (sigma ** 2) / 2.0) / np.sqrt(2.0 * np.pi * (sigma ** 2))\n",
    "\n",
    "\n",
    "    # calculates how likely a measurement should be\n",
    "    prob = 1.0;\n",
    "    for i in range(len(particle.landmarks)):\n",
    "        distance =  ????\n",
    "        prob    *= ????\n",
    "    return prob\n",
    "\n",
    "import urllib, inspect\n",
    "src1 = urllib.quote_plus(inspect.getsource(measurement_prob))"
   ]
  },
  {
   "cell_type": "markdown",
   "metadata": {},
   "source": [
    "Comprueba tu código. La posición fija debe de dar una probabilidad de `1.0276602846e-13` ... el resto de probabilidades de partículas (robots) aleatorios deben de estar por ese orden."
   ]
  },
  {
   "cell_type": "code",
   "execution_count": null,
   "metadata": {
    "collapsed": false
   },
   "outputs": [],
   "source": [
    "lmarks  = [[20.0, 20.0], [80.0, 80.0], [20.0, 80.0], [80.0, 20.0]]\n",
    "wsize   = 100.0\n",
    "\n",
    "myrobot = RobotPosition(lmarks, wsize)\n",
    "myrobot.x, myrobot.y = 70,70\n",
    "myrobot.sense_noise  = 5.\n",
    "measurement = [56,30,60,30]\n",
    "print myrobot\n",
    "\n",
    "print \"FIXED POSITION\", measurement_prob(myrobot, measurement)\n",
    "print \"RANDOM PARTICLES\"\n",
    "for i in range(10):\n",
    "    p = RobotPosition(lmarks, wsize)\n",
    "    p.sense_noise = myrobot.sense_noise\n",
    "    prob = measurement_prob(p,measurement)\n",
    "    print p, prob"
   ]
  },
  {
   "cell_type": "markdown",
   "metadata": {},
   "source": [
    "#### evaluate your answer before submitting:"
   ]
  },
  {
   "cell_type": "code",
   "execution_count": null,
   "metadata": {
    "collapsed": false
   },
   "outputs": [],
   "source": [
    "!./run CHECK_SOLUTION PS3B_1 $src1"
   ]
  },
  {
   "cell_type": "markdown",
   "metadata": {},
   "source": [
    "#### submit your answer (you must be connected to internet)"
   ]
  },
  {
   "cell_type": "code",
   "execution_count": null,
   "metadata": {
    "collapsed": false
   },
   "outputs": [],
   "source": [
    "!./run SUBMIT_SOLUTION PS3B_1 $src1"
   ]
  },
  {
   "cell_type": "markdown",
   "metadata": {},
   "source": [
    "## Ejercicio 2"
   ]
  },
  {
   "cell_type": "markdown",
   "metadata": {},
   "source": [
    "completa la función `weighted_sample` para que dada una lista de pesos, muestree el índice de cada peso de manera proporcional al peso.\n",
    "\n",
    "**Ejemplo de ejecución**\n",
    "\n",
    "Entrada:\n",
    "\n",
    "    weights = np.array([0.8,0.2])\n",
    "    print weighted_sample(weights, n_samples=20)\n",
    "    print \"--\"\n",
    "\n",
    "    weights = np.array([0.1,0.3,0.4,0.05,0.1,0.05])\n",
    "    w = weighted_sample(weights, n_samples=10000)\n",
    "    print \"idx freq\"\n",
    "    for i in np.unique(w):\n",
    "        print \"%2d  %.3f\"%(i, np.sum(w==i)*1./len(w))\n",
    "\n",
    "\n",
    "Salida (los valores serán distintos pero de magnitud similar):\n",
    "\n",
    "    [0, 0, 0, 1, 0, 0, 0, 0, 0, 0, 0, 1, 1, 0, 0, 0, 0, 0, 0, 0]\n",
    "    --\n",
    "    idx freq\n",
    "     0  0.099\n",
    "     1  0.298\n",
    "     2  0.402\n",
    "     3  0.050\n",
    "     4  0.101\n",
    "     5  0.050\n"
   ]
  },
  {
   "cell_type": "code",
   "execution_count": null,
   "metadata": {
    "collapsed": true
   },
   "outputs": [],
   "source": [
    "def weighted_sample(weight_list, n_samples=None):    \n",
    "    import bisect\n",
    "    \n",
    "    sample_data = ????\n",
    "    \n",
    "    return sample_data\n",
    "\n",
    "import urllib, inspect\n",
    "src2 = urllib.quote_plus(inspect.getsource(weighted_sample))"
   ]
  },
  {
   "cell_type": "markdown",
   "metadata": {},
   "source": [
    "Comprueba tu código"
   ]
  },
  {
   "cell_type": "code",
   "execution_count": null,
   "metadata": {
    "collapsed": false
   },
   "outputs": [],
   "source": [
    "weights = np.array([0.8,0.2])\n",
    "print weighted_sample(weights, n_samples=20)\n",
    "print \"--\"\n",
    "\n",
    "weights = np.array([0.1,0.3,0.4,0.05,0.1,0.05])\n",
    "w = weighted_sample(weights, n_samples=10000)\n",
    "print \"idx freq\"\n",
    "for i in np.unique(w):\n",
    "    print \"%2d  %.3f\"%(i, np.sum(w==i)*1./len(w))\n"
   ]
  },
  {
   "cell_type": "markdown",
   "metadata": {},
   "source": [
    "#### evaluate your answer before submitting:"
   ]
  },
  {
   "cell_type": "code",
   "execution_count": null,
   "metadata": {
    "collapsed": false
   },
   "outputs": [],
   "source": [
    "!./run CHECK_SOLUTION PS3B_2 $src2"
   ]
  },
  {
   "cell_type": "markdown",
   "metadata": {},
   "source": [
    "#### submit your answer (you must be connected to internet)"
   ]
  },
  {
   "cell_type": "code",
   "execution_count": null,
   "metadata": {
    "collapsed": false
   },
   "outputs": [],
   "source": [
    "!./run SUBMIT_SOLUTION PS3B_2 $src2"
   ]
  },
  {
   "cell_type": "code",
   "execution_count": null,
   "metadata": {
    "collapsed": true
   },
   "outputs": [],
   "source": []
  }
 ],
 "metadata": {
  "kernelspec": {
   "display_name": "Python 2",
   "language": "python",
   "name": "python2"
  },
  "language_info": {
   "codemirror_mode": {
    "name": "ipython",
    "version": 2
   },
   "file_extension": ".py",
   "mimetype": "text/x-python",
   "name": "python",
   "nbconvert_exporter": "python",
   "pygments_lexer": "ipython2",
   "version": "2.7.10"
  },
  "toc": {
   "toc_cell": false,
   "toc_number_sections": true,
   "toc_threshold": 6,
   "toc_window_display": false
  }
 },
 "nbformat": 4,
 "nbformat_minor": 0
}
